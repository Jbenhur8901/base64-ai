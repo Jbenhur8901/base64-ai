{
 "cells": [
  {
   "cell_type": "markdown",
   "id": "57d67d13",
   "metadata": {},
   "source": [
    "## Chargements des documents (Document loaders)"
   ]
  },
  {
   "cell_type": "markdown",
   "id": "a4ed53bf",
   "metadata": {},
   "source": [
    "## Découpage de texte (Text splitters)"
   ]
  },
  {
   "cell_type": "markdown",
   "id": "a5946b34",
   "metadata": {},
   "source": [
    "## Vectorisation (Embeddings and Store vectors)"
   ]
  },
  {
   "cell_type": "markdown",
   "id": "32642e1f",
   "metadata": {},
   "source": [
    "## Extraction (Retrieval)"
   ]
  }
 ],
 "metadata": {
  "language_info": {
   "name": "python"
  }
 },
 "nbformat": 4,
 "nbformat_minor": 5
}
