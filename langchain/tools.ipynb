{
 "cells": [
  {
   "cell_type": "markdown",
   "id": "1865e076",
   "metadata": {},
   "source": [
    "# ⚙️ Utilisation des outils avec les modèles LLM\n",
    "\n",
    "## 🎯 Pourquoi utiliser des outils avec un LLM ?\n",
    "\n",
    "Sans outils, un LLM ne fait qu’**interpréter et générer du texte**. Cela limite ses capacités à :\n",
    "\n",
    "- manipuler des données dynamiques,\n",
    "- interagir avec des systèmes réels,\n",
    "- ou répondre à des questions nécessitant une logique métier.\n",
    "\n",
    "En intégrant des outils, vous offrez au LLM la possibilité de **devenir un véritable agent intelligent** capable de :\n",
    "\n",
    "✅ prendre des décisions,  \n",
    "✅ exécuter des actions dans le monde réel,  \n",
    "✅ et **travailler avec précision sur des données vivantes**.\n",
    "\n",
    "## 📌 Qu’est-ce qu’un outil (Tool) dans le contexte des LLM ?\n",
    "\n",
    "Un **outil** est une fonction ou une API externe que le modèle de langage peut invoquer pour accomplir une tâche spécifique qu’il **ne peut pas exécuter seul**, comme :\n",
    "\n",
    "- accéder à une base de données,\n",
    "- effectuer un calcul complexe,\n",
    "- interroger une API tierce,\n",
    "- exécuter du code,\n",
    "- consulter des documents internes,\n",
    "- ou encore lancer une recherche sur Internet.\n",
    "\n",
    "Les outils permettent d’**étendre les capacités** du modèle en le connectant à des fonctions exécutables dans un environnement réel.\n",
    "\n",
    "\n",
    "## ⚙️ Création des Tools avec `@tool`\n",
    "\n",
    "LangChain propose le décorateur `@tool` pour **simplifier la création d’outils**. Il offre plusieurs avantages importants :\n",
    "\n",
    "### ✅ Déduction automatique\n",
    "Le décorateur :\n",
    "- **déduit automatiquement** le nom de l’outil,\n",
    "- génère une **description compréhensible par le modèle**,\n",
    "- identifie les **paramètres attendus** selon la signature de la fonction.\n",
    "\n",
    "### 🧪 Personnalisation\n",
    "Il est aussi possible de :\n",
    "- personnaliser le nom et la description de l’outil,\n",
    "- restreindre ou masquer certains paramètres à l’intention du modèle.\n",
    "\n",
    "### 🖼️ Outils retournant des artefacts\n",
    "Les outils peuvent aussi retourner des objets non textuels appelés **artefacts**, comme :\n",
    "- des **images**,\n",
    "- des **dataframes** (Pandas),\n",
    "- ou tout autre type de données utiles.\n",
    "\n",
    "### 🙈 Arguments injectés\n",
    "Il est possible d’**injecter des arguments** directement dans la fonction, sans que ceux-ci n’apparaissent dans le schéma visible du modèle. Cela permet de **masquer des paramètres sensibles ou techniques** tout en les utilisant en arrière-plan.\n"
   ]
  },
  {
   "cell_type": "code",
   "execution_count": null,
   "metadata": {},
   "outputs": [],
   "source": [
    "from langchain_core.tools import tool\n",
    "\n",
    "@tool\n",
    "def multiply(a: int, b: int) -> int:\n",
    "   \"\"\"Fais la multiplication.\"\"\"\n",
    "   return a * b"
   ]
  },
  {
   "cell_type": "markdown",
   "id": "ff0cdc90",
   "metadata": {},
   "source": [
    "Vous pouvez également inspecter le schéma de l'outil et d'autres propriétés :\n",
    "\n",
    "```python\n",
    "print(multiply.name) # multiply\n",
    "print(multiply.description) # Multiply two numbers.\n",
    "print(multiply.args) \n",
    "# {\n",
    "# 'type': 'object', \n",
    "# 'properties': {'a': {'type': 'integer'}, 'b': {'type': 'integer'}}, \n",
    "# 'required': ['a', 'b']\n",
    "# }"
   ]
  },
  {
   "cell_type": "markdown",
   "id": "c007d79a",
   "metadata": {},
   "source": [
    "### Injection des paramètres\n",
    "\n",
    "Dans certains cas, certains arguments doivent être transmis à un outil au moment de l'exécution, mais ne doivent pas être générés par le modèle lui-même. Pour cela, nous utilisons l'annotation InjectedToolArg, qui permet de masquer certains paramètres dans le schéma de l'outil.\n",
    "\n",
    "Par exemple, si un outil nécessite qu'un user_id soit injecté dynamiquement au moment de l'exécution, il peut être structuré de cette manière :"
   ]
  },
  {
   "cell_type": "code",
   "execution_count": null,
   "id": "d9922d43",
   "metadata": {},
   "outputs": [],
   "source": [
    "from langchain_core.tools import tool, InjectedToolArg\n",
    "\n",
    "@tool\n",
    "def user_specific_tool(input_data: str, user_id: InjectedToolArg) -> str:\n",
    "    \"\"\"Tool that processes input data.\"\"\"\n",
    "    return f\"User {user_id} processed {input_data}\""
   ]
  },
  {
   "cell_type": "markdown",
   "id": "88fcad64",
   "metadata": {},
   "source": [
    "### Artéfacts de l'outil\n",
    "\n",
    "Les outils sont des utilitaires qui peuvent être appelés par un modèle et dont les résultats sont conçus pour être renvoyés à un modèle. Parfois, cependant, il existe des artefacts de l'exécution d'un outil que nous voulons rendre accessibles aux composants en aval de notre chaîne ou agent, mais que nous ne voulons pas exposer au modèle lui-même. Par exemple, si un outil renvoie un objet personnalisé, un cadre de données ou une image, nous pouvons vouloir transmettre des métadonnées sur cette sortie au modèle sans lui transmettre la sortie elle-même. En même temps, nous pouvons vouloir accéder à ce résultat complet ailleurs, par exemple dans des outils en aval."
   ]
  }
 ],
 "metadata": {
  "kernelspec": {
   "display_name": "env",
   "language": "python",
   "name": "python3"
  },
  "language_info": {
   "name": "python",
   "version": "3.12.1"
  }
 },
 "nbformat": 4,
 "nbformat_minor": 5
}
