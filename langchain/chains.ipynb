{
 "cells": [
  {
   "cell_type": "markdown",
   "id": "d7b57516",
   "metadata": {},
   "source": [
    "## LangChain Expression Language (LCEL)\n",
    "\n",
    "LCEL (LangChain Expression Language) est un langage déclaratif et composable conçu pour orchestrer des chaînes de traitement avec des LLM (Large Language Models). Il permet de composer des chaînes d'étapes (prompts, modèles, outils, fonctions, etc.) de manière lisible, modulaire et facilement testable.\n",
    "\n",
    "### Objectif\n",
    "Faciliter la création de pipelines LLM complexes en combinant différentes composantes (prompts, modèles, outils, formatteurs) sans écrire trop de logique impérative.\n",
    "\n",
    "### Principes clés\n",
    "\n",
    "- Composable : chaque composant peut être combiné avec d'autres via des opérateurs (|, +, etc.).\n",
    "- Lisible : syntaxe proche d’un pipeline, facile à comprendre.\n",
    "- Testable : chaque étape peut être testée indépendamment.\n",
    "- Réutilisable : permet d'encapsuler des chaînes en sous-composants."
   ]
  },
  {
   "cell_type": "markdown",
   "id": "427274ee",
   "metadata": {},
   "source": [
    "### Exécution par séquence"
   ]
  },
  {
   "cell_type": "code",
   "execution_count": null,
   "id": "fd54917d",
   "metadata": {},
   "outputs": [],
   "source": [
    "from langchain_core.runnables import RunnableSequence\n",
    "\n",
    "from langchain_openai import ChatOpenAI\n",
    "from dotenv import load_dotenv\n",
    "from langchain_core.prompts import ChatPromptTemplate\n",
    "from langchain_core.runnables import RunnableSequence, RunnableParallel\n",
    "from langchain_core.tools import tool\n",
    "import random\n",
    "load_dotenv()\n",
    "\n",
    "\n",
    "\n",
    "@tool\n",
    "def execute_sql(code : str) -> str :\n",
    "    \"\"\"\n",
    "    Cette fonction permet d'executer le code sql passer comme argument\n",
    "    \"\"\"\n",
    "    print(\"----execution de l'outil en cours....\")\n",
    "    x = random.randint(0,10)\n",
    "    cond = x % 2\n",
    "\n",
    "    if cond == 0:\n",
    "        return \"le code s'est exécuté correctement.\"\n",
    "    else :\n",
    "        return \"le code n'est pas correct.\"\n",
    "\n",
    "\n",
    "def sql_translator(input, instructions):\n",
    "\n",
    "    chat_model= ChatOpenAI(model_name=\"gpt-4o-mini\")\n",
    "    llm_with_tool = chat_model.bind_tools([execute_sql])\n",
    "\n",
    "    prompt= ChatPromptTemplate.from_messages(\n",
    "        [\n",
    "            (\"system\" , f\"{instructions}\"),\n",
    "            (\"human\" , \"{input}\")  \n",
    "        ]\n",
    "    )\n",
    "\n",
    "    chain = RunnableSequence(prompt, llm_with_tool)\n",
    "    call = chain.invoke(input)\n",
    "    if call.content:\n",
    "        return call.content\n",
    "    return call.additional_kwargs\n",
    "\n",
    "\n",
    "instruction =\"\"\"\n",
    "Tu es un traducteur de texte en sql ou de sql en texte. \n",
    "Tu prends les instructions données en languages \n",
    "naturel pour les traduit en code sql ou du code sql en language naturel.\n",
    "renvoie uniquement la traduction et ne fait pas la conversation.\n",
    "\n",
    "Lorsque l'utilisateur te donne un code sql pour traduire en texte\n",
    "execute le d'abord pour savoir si le code est correct ou pas en faisant appel\n",
    "à l'outil \"execute_sql\".\n",
    "\"\"\"\n",
    "input = \"\"\"\n",
    "SELECT\n",
    "  e.id,\n",
    "  e.first_name,\n",
    "  e.last_name,\n",
    "  qs.q4_2022-qs.q3_2022 AS sales_change\n",
    "FROM employees e\n",
    "JOIN quarterly_sales qs\n",
    "ON e.id = qs.employee_id\n",
    "WHERE qs.q4_2022-qs.q3_2022 < 0;\n",
    "\"\"\"\n",
    "print(sql_translator(input, instruction))"
   ]
  },
  {
   "cell_type": "markdown",
   "id": "bf1df79a",
   "metadata": {},
   "source": [
    "### Exécution parallèle"
   ]
  },
  {
   "cell_type": "code",
   "execution_count": null,
   "id": "56bd8b0a",
   "metadata": {},
   "outputs": [],
   "source": []
  }
 ],
 "metadata": {
  "kernelspec": {
   "display_name": "env",
   "language": "python",
   "name": "python3"
  },
  "language_info": {
   "name": "python",
   "version": "3.12.1"
  }
 },
 "nbformat": 4,
 "nbformat_minor": 5
}
