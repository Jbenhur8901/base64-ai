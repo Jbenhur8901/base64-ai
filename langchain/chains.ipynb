{
 "cells": [
  {
   "cell_type": "markdown",
   "id": "d7b57516",
   "metadata": {},
   "source": [
    "## LangChain Expression Language (LCEL)\n",
    "\n",
    "LCEL (LangChain Expression Language) est un langage déclaratif et composable conçu pour orchestrer des chaînes de traitement avec des LLM (Large Language Models). Il permet de composer des chaînes d'étapes (prompts, modèles, outils, fonctions, etc.) de manière lisible, modulaire et facilement testable.\n",
    "\n",
    "### Objectif\n",
    "Faciliter la création de pipelines LLM complexes en combinant différentes composantes (prompts, modèles, outils, formatteurs) sans écrire trop de logique impérative.\n",
    "\n",
    "### Principes clés\n",
    "\n",
    "- Composable : chaque composant peut être combiné avec d'autres via des opérateurs (|, +, etc.).\n",
    "- Lisible : syntaxe proche d’un pipeline, facile à comprendre.\n",
    "- Testable : chaque étape peut être testée indépendamment.\n",
    "- Réutilisable : permet d'encapsuler des chaînes en sous-composants."
   ]
  },
  {
   "cell_type": "markdown",
   "id": "427274ee",
   "metadata": {},
   "source": [
    "### Exécution par séquence"
   ]
  },
  {
   "cell_type": "code",
   "execution_count": null,
   "id": "fd54917d",
   "metadata": {},
   "outputs": [],
   "source": [
    "from langchain_core.runnables import RunnableSequence"
   ]
  },
  {
   "cell_type": "markdown",
   "id": "bf1df79a",
   "metadata": {},
   "source": [
    "### Exécution parallèle"
   ]
  },
  {
   "cell_type": "code",
   "execution_count": null,
   "id": "56bd8b0a",
   "metadata": {},
   "outputs": [],
   "source": [
    "from langchain_core.runnables import RunnableParallel\n",
    "# chain = RunnableParallel({\n",
    "#     \"key1\": runnable1,\n",
    "#     \"key2\": runnable2,\n",
    "# })"
   ]
  }
 ],
 "metadata": {
  "kernelspec": {
   "display_name": "env",
   "language": "python",
   "name": "python3"
  },
  "language_info": {
   "name": "python",
   "version": "3.12.1"
  }
 },
 "nbformat": 4,
 "nbformat_minor": 5
}
