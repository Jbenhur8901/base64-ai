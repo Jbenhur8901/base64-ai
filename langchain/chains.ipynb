{
 "cells": [
  {
   "cell_type": "markdown",
   "id": "d7b57516",
   "metadata": {},
   "source": [
    "## LangChain Expression Language (LCEL)"
   ]
  }
 ],
 "metadata": {
  "language_info": {
   "name": "python"
  }
 },
 "nbformat": 4,
 "nbformat_minor": 5
}
